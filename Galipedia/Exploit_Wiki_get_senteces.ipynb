{
 "cells": [
  {
   "cell_type": "markdown",
   "id": "8d26cb41-cd10-4a4e-bc0a-404bbdd6c6df",
   "metadata": {},
   "source": [
    "# Introduction\n",
    "\n",
    "The goal of this notebook is extract the maximal number of galician sentences to build a corpus of sentences that coulld be useful to train a spacy model or get insights on the galician language itself.\n",
    "\n",
    "The notebook is based on the file created in the *wiki_DOWNLOAD* notebook where  article sentences are stored, _articles20221201_ and renders a first version of a corpuscle, _wiki_gal_corpus.pkl_,  and a file with the corpus sentences _wiki_sents_gal.txt_.  "
   ]
  },
  {
   "cell_type": "markdown",
   "id": "5d9dc5da-81ce-4e33-877d-e5a45ad1ddac",
   "metadata": {},
   "source": [
    "## Libraries & functions"
   ]
  },
  {
   "cell_type": "code",
   "execution_count": 1,
   "id": "7ef5e740-a890-4615-afd5-088906e17ed1",
   "metadata": {},
   "outputs": [],
   "source": [
    "from Galutils import *\n",
    "\n",
    "import py3langid as langid\n"
   ]
  },
  {
   "cell_type": "code",
   "execution_count": 2,
   "id": "22bf7c33-7df9-4f81-948b-50f02fc287e3",
   "metadata": {},
   "outputs": [],
   "source": [
    "def get_spacy_predict(sents,lang=None,pos_exclude=[]):#'PUNCT','SYM','X']):\n",
    "   \n",
    "    \n",
    "    def model_predict(sent,lang=None):\n",
    "        \n",
    "        if not lang:\n",
    "            return\n",
    "        res=[]\n",
    "        sentence=[[i.text,i.pos_,i.lemma_] for i in lang(sent) if alpha_text(i.text,patt='0-9,\\.;:\\?\\¿\\!\\¡\\-\\<\\>\\(\\)\\[\\]\\{\\}') ]\n",
    "        return [tuple(item) for item in sentence if not item[1] in pos_exclude]\n",
    "\n",
    "    res=[]\n",
    "    all_bow={}\n",
    "    all_df={}\n",
    "    all_lemma={}\n",
    "    all_propn=[]\n",
    "    for sent in sents:\n",
    "        keys=[]\n",
    "        res.append([(token,pos,lemma) for token,pos,lemma in model_predict(sent,lang)])\n",
    "        for token,pos,lemma in res[-1]:\n",
    "            \n",
    "            if pos=='PROPN':\n",
    "                all_propn.append((token,lemma))\n",
    "            elif (len(alpha_text(token))==len(token)) and (len(alpha_text(lemma))==len(lemma)):\n",
    "                \n",
    "                all_bow[token]=all_bow.get(token,0)+1\n",
    "               \n",
    "                all_lemma[lemma]=all_lemma.get(lemma,0)+1\n",
    "                keys.append(lemma)\n",
    "                \n",
    "                    \n",
    "        for key in set(keys):\n",
    "            all_df[key]=all_df.get(key,0)+1\n",
    "    return (res,all_bow,all_df,all_lemma,Counter(all_propn))\n",
    "                           "
   ]
  },
  {
   "cell_type": "markdown",
   "id": "346041c3-6b72-414f-a42a-2af756a30b14",
   "metadata": {},
   "source": [
    "## Loading data & Language model"
   ]
  },
  {
   "cell_type": "code",
   "execution_count": 3,
   "id": "d7b87993-745b-462d-9853-2cae00ff11b5",
   "metadata": {},
   "outputs": [],
   "source": [
    "path=Path.cwd()\n",
    "path_model=path.parent/'Model'\n",
    "path_data=path.parent/'dataset'"
   ]
  },
  {
   "cell_type": "code",
   "execution_count": 4,
   "id": "d85c5b53-9a77-4946-982a-e3407eed636c",
   "metadata": {},
   "outputs": [
    {
     "name": "stderr",
     "output_type": "stream",
     "text": [
      "/home/luis/.local/lib/python3.10/site-packages/spacy/util.py:865: UserWarning: [W095] Model 'pt_pipeline' (0.0.0) was trained with spaCy v3.4 and may not be 100% compatible with the current version (3.4.1). If you see errors or degraded performance, download a newer compatible model or retrain your custom model with the current spaCy version. For more details and available updates, run: python -m spacy validate\n",
      "  warnings.warn(warn_msg)\n"
     ]
    }
   ],
   "source": [
    "nlp=spacy.load(path_model/'gl_lg')          "
   ]
  },
  {
   "cell_type": "markdown",
   "id": "ff38193e-a3e4-4e56-9026-63d3fdb164ed",
   "metadata": {
    "tags": []
   },
   "source": [
    "### load articles"
   ]
  },
  {
   "cell_type": "code",
   "execution_count": 5,
   "id": "af2655a8-74e0-4f81-b6d8-96cdba30b9cd",
   "metadata": {
    "collapsed": true,
    "jupyter": {
     "outputs_hidden": true
    },
    "tags": []
   },
   "outputs": [
    {
     "data": {
      "text/plain": [
       "(154876,\n",
       " document(title='Alimento', category=['Alimentación', 'Artigos que toda Wikipedia debería ter (Ciencia)'], user=['Alfonso Márquez'], text=[\"O 'alimento' é a substancia normalmente comida ou bebida por seres vivos.\", 'O termo alimento inclúe tamén bebidas líquidas.', 'A comida é a principal fonte de enerxía e nutrición dos animais, e é xeralmente de orixe animal ou vexetal.', 'Diversas disciplinas encárganse do estudo dos alimentos desde enfoques distintos: a bioloxía estuda os mecanismos de obtención, dixestión e refugallo dos alimentos por parte dos organismos, a ecoloxía estuda as cadeas alimentarias, a química dos alimentos a composición dos alimentos e o xeito no que se metabolizan dentro do organismo, e a tecnoloxía dos alimentos estuda a elaboración, produción e uso dos produtos destinados ao consumo humano.', 'Fontes de alimentos', 'A maioría dos alimentos ten a súa orixe nas plantas.', 'Algúns alimentos obtéñense directamente das plantas; mais mesmo os animais que se usan como fonte de alimento críanse con alimentos derivados de plantas.', 'O gran dos cereais é un alimento básico que proporciona máis enerxía alimentaria en todo o mundo que calquera outro tipo de cultivo.', 'O millo, o trigo e o arroz, en todas as súas variedades, representan o 87 % de toda a produción de grans a nivel mundial.', 'A maior parte do gran que se produce emprégase para alimentar o gando.', 'Algúns alimentos non procedentes de animais ou plantas inclúen varios fungos comestibles, especialmente cogomelos.', 'Os fungos e as bacterias ambientais úsanse na preparación de alimentos fermentados e en conserva como o pan fermentado, as bebidas alcohólicas, o queixo, os encurtidos, a kombucha e o iogur.', 'Outro exemplo son as algas verdeazuladas como a espirulina.', 'As substancias inorgánicas como o sal, o bicarbonato de sodio e o bitartrato de potasio úsanse para conservar ou alterar quimicamente un ingrediente.', 'Plantas', 'Moitas plantas e partes das plantas cómense como alimento e arredor de 2000 especies de plantas cultívanse como alimento.', 'Moitas destas especies vexetais teñen varios cultivares distintos.', 'As sementes de plantas son unha boa fonte de alimento para os animais, incluídos os humanos, porque conteñen os nutrientes necesarios para o crecemento inicial da planta, incluídas moitas graxas saudables, como as graxas omega.', 'De feito, a maioría dos alimentos consumidos polo ser humano son alimentos a base de sementes.', 'As sementes comestibles inclúen os cereais (millo, trigo, arroz), as leguminosas (feixóns, chícharos, lentellas) e as noces.', 'As oleaxinosas adoitan ser prensadas para producir aceites ricos: xirasol, liñaza, colza, sésamo etc.', 'As sementes adoitan ser altas en graxas insaturadas e, con moderación, considéranse un alimento saudable.', 'Non obstante, non todas as sementes son comestibles.', 'As sementes grandes, como as do limón, supoñen un perigo de asfixia, mentres que as sementes de cereixas e mazás conteñen cianuro que pode ser velenoso se se consome en grandes cantidades.', 'Os froitos son os ovarios madurados das plantas, incluídas as sementes dentro.', 'Moitas plantas e animais coevolucionaron de tal xeito que os froitos dos primeiros son unha fonte de alimento atractiva para os segundos, porque os animais que comen os froitos poden excretar as sementes a certa distancia.', 'As froitas, polo tanto, constitúen unha parte significativa das dietas da maioría das culturas.', 'Algunhas froitas botánicas, como tomates, cabazas e berenxenas, cómense como verduras.', 'As verduras son un segundo tipo de materia vexetal que normalmente se come como alimento.', 'Inclúense raíces (patacas e cenorias), bulbos (familia das cebolas), vexetais de folla (espinacas e leitugas), talos (brotes de bambú e espárragos) e inflorescencias (alcachofas, brócoli, repolo, coliflor).', 'Animais', 'Os animais utilízanse como alimento directa ou indirectamente polos produtos que producen.', 'A carne é un exemplo dun produto directo extraído dun animal, que procede de sistemas musculares ou de órganos (despoxos).', 'Os produtos alimentarios producidos por animais inclúen o leite producido polas glándulas mamarias, que en moitas culturas se bebe ou se transforma en produtos lácteos (queixo, manteiga…).', 'Ademais, as aves e outros animais poñen ovos, que a miúdo se comen, e as abellas fabrican mel, un néctar producido a partir das flores, que é un edulcorante popular en moitas culturas.', 'Algunhas culturas consomen sangue, ás veces en forma de morcilla, como espesante para as salsas, ou en forma salgada e curada en épocas de escaseza de alimentos, e outras usan sangue en guisos.', 'Algunhas culturas e persoas non consomen carne ou produtos de alimentación animal por razóns culturais, dietéticas, de saúde, éticas ou ideolóxicas.', 'Os vexetarianos optan por renunciar a alimentos de fontes animais en diferentes graos.', 'Os veganos non consomen ningún alimento que conteña ingredientes de orixe animal.', 'Nutrientes', 'Defínese como nutriente a toda aquela substancia que bioquimicamente é esencial para o mantemento dos organismos vivos.', 'A vida é sostida polos alimentos, e as substancias contidas nos alimentos das cales depende a vida son os nutrientes.', 'Estes proporcionan a enerxía e os materiais de construción para as innumerables substancias que son esenciais para o crecemento e a supervivencia dos organismos vivos.', 'Un nutriente é unha substancia usada para o metabolismo do organismo, e a cal debe ser tomada do ambiente.', 'Os organismos non autotróficos adquiren os nutrientes a través dos alimentos que enxiren.', 'Os métodos para a inxerir os alimentos son variables, os animais teñen un sistema dixestivo interno, mentres que as plantas dixiren os nutrientes externamente e logo son inxeridos.', 'Os efectos dos nutrientes dependen da dose.', 'Os nutrientes orgánicos inclúen carbohidratos, graxas e proteínas, así como vitaminas.', 'Algúns compoñentes químicos inorgánicos como minerais, auga e osíxeno poden tamén ser considerados como nutrientes.', 'Un nutriente é esencial para un organismo cando este non pode sintetizalo en cantidades suficientes e debe ser obtido dunha fonte externa.', 'Hai dous tipos de nutrientes: os simples ou micronutrientes, e os complexos ou macronutrientes.', 'Os nutrientes requiridos en grandes cantidades son chamados macronutrientes e os que son requiridos en cantidades máis pequenas coñéceselles como micronutrientes.', 'Micronutrientes', 'Coñécese como micronutrientes a aquelas substancias que o organismo dos seres vivos necesita en pequenas doses.', 'Son indispensables para os diferentes procesos bioquímicos e metabólicos dos organismos vivos e sen eles morrerían.', 'Desempeñan importantes funcións catalizadoras no metabolismo, ao formaren parte da estrutura de numerosas enzimas.', 'Nos animais engloba as vitaminas e minerais e estes últimos divídense en minerais e oligoelementos.', 'Estes últimos necesítanse nunha dose aínda menor.', 'As plantas requiren de minerais.', 'Púidose estudar ben nelas cales necesitan grazas a cultivos sen chan que puidesen alterar os resultados.', 'Descubriuse que algúns elementos necesítanse en proporcións tan baixas que un fertilizante que non os conteña no seu formulación pode aportalos debido ás impureza que contén.', 'Tipos e compoñentes dos alimentos', 'Un compoñente fundamental dos alimentos é a auga, que o corpo humano require para sostelos procesos que nos manteñen vivos.', 'É necesario inxerir auga para repoñela que perdemos basicamente por catro vías: por transpiración, polo aire que expulsamos na respiración, por excreción, e pola que eliminamos directamente nos ouriños.', 'Os compoñentes dos alimentos pódense clasificar de moitas maneiras.', \"Unha delas é nos seguintes cinco grandes grupos: 'As proteínas:' Están formadas por cadeas de moléculas moi especiais, chamadas aminoácidos, que son os compoñentes que require o corpo humano para construír tecidos, como os músculos, os osos, a pel, os tecidos nerviosos etc.\", 'As proteínas están en alta proporción nos alimentos de orixe animal, como as carnes (de mamíferos, aves e peixes), nos ovos, nos lácteos, e en menor proporción nalgúns vexetais, como a soia.', \"Os hidratos de Carbono:' quimicamente son cadeas de moléculas fomadas basicamente por carbono, hidróxeno e osíxeno.\", 'Estas cadeas de hidratos de carbono ou carbohidratos proveñen maioritariamente dos vexetais, que conteñen compostos como o amidón e o azucre.', 'O amidón encóntrase principalmente nos alimentos como o millo, o trigo, a cebada, o arroz, nos tubérculos (como a pataca) e nas leguminosas (como as ervellacas, feixóns etc.', 'Os azucres se atopan na natureza nalgúns vexetais como a cana de azucre, a remolacha e nas froitas.', 'Así a todo o seu consumo actualmente provén do uso directo de azucre refinado como edulcorante (adozante) en prostres, tortas, froitas en conserva, e especialmente nas bebidas gasosas.', 'Os hidratos de Carbono son basicamente unha fonte de enerxía para o corpo, de uso inmediato.', \"Os lípidos ou graxas:' quimicamente son produtos que conteñen ácidos graxos, que poden ser saturados ou insaturados, o que ten importante efecto na saúde.\", 'Poden ser sólidos (como a manteiga, o queixo etc.) ou líquidos como o aceite.', 'Son a fonte de enerxía de longo prazo para o corpo, e para os vexetais.', 'Por iso, a maioría das sementes, para sobrevivir, posúen abundantes lípidos, como as améndoas, as pebidas de marabilla e de uva.', \"As fibras:' quimicamente posúen un alto contido de celulosa, un produto que o corpo non pode aproveitar (dixerir) pero teñen efectos positivos na parte mecánica da dixestión dos alimentos.\", \"As vitaminas:' son compostos químicos en xeral moi complexos, de distinta natureza, pero que teñen en común que cantidades asombrosamente pequenas son imprescindibles para o funcionamento do organismo.\", 'A ausencia dalgunhas vitaminas causa enfermidades que poden ser graves, e a inxesta de pequenísimas cantidades (miligramos) pode emendar este problema.', 'As cascas das froitas son unha fonte importante dalgunhas vitaminas.', 'Hábitos alimenticios humanos', 'Desenvolvemento histórico', 'Os seres humanos son animais omnívoros capaces de consumiren tanto produtos vexetais como animais.', 'Evolucionaron de recolectores a cazadores recolectores.', 'Logo da experiencia da Idade de Xeo é posible que os humanos quixesen crear unha sensación de seguridade administrando o crecemento de plantas e a reprodución de animais.', 'Isto levou á agricultura e alterou o xeito en que os alimentos son obtidos.', 'Comidas', 'Unha selección de diferentes alimentos complementarios inxeridos en conxunto compoñen unha comida.', 'A xente a miúdo elixe comer en compañía de membros da súa familia ou amigos e isto é xeralmente comprendido como un encontro social importante.', 'Produción e adquisición dos alimentos', 'A comida obtívose tradicionalmente polo cultivo, a pesca, a caza e outros métodos de subsistencia localmente importantes para algunhas poboacións aínda que desprezables para outras.', 'Actualmente, nas nacións desenvolvidas, a subministración de alimentos cada vez depende máis da agricultura intensiva, do cultivo industrial, da piscicultura ou doutras técnicas que aumentan as cantidades de alimentos producidos á vez que diminúen o seu custo.', 'Estas técnicas á súa vez dependen do desenvolvemento de ferramentas mecanizadas, dende a máquina de mallar e a sementadora ata o tractor e a segadora malladora etc.', 'Estas ferramentas foron combinadas con pesticidas que aseguran o elevado rendemento de colleitas e combaten insectos ou mamíferos que prexudican a produción.', 'Tamén á modificación xenética das plantas comestibles (alimentos transxénicos), para facelas máis resistentes ás enfermidades e ós parasitos, á vez que máis produtivas.', 'Estas técnicas son moi contestadas, pois deixan en mans das multinacionais a produción de sementes, á vez que se supón que a polinización cruzada de plantas naturais por plantas modificadas, pode altera-la calidade daquelas.', 'Actualmente percíbese unha tendencia crecente cara a prácticas agrícolas máis sostibles, que recorren a sistemas naturais de produción.', 'Estes métodos, que se están estendendo grazas á demanda do consumo, estimulan a biodiversidade, a auto-seguridade local e o cultivo orgánico.']))"
      ]
     },
     "execution_count": 5,
     "metadata": {},
     "output_type": "execute_result"
    }
   ],
   "source": [
    "articles=pickle_var(path_data/'articles20221201_gl.pkl')\n",
    "articles=[document(*item) for item in articles]\n",
    "len(articles),articles[0]"
   ]
  },
  {
   "cell_type": "code",
   "execution_count": 6,
   "id": "58586db8-a6e7-48a0-aa0d-00f190141bba",
   "metadata": {},
   "outputs": [
    {
     "data": {
      "text/plain": [
       "2838254"
      ]
     },
     "execution_count": 6,
     "metadata": {},
     "output_type": "execute_result"
    }
   ],
   "source": [
    "sentences=[]\n",
    "for art in articles:\n",
    "    sentences+=[item for item in art.text if len(alpha_text(item,' -').split())>3]\n",
    "len(sentences)"
   ]
  },
  {
   "cell_type": "markdown",
   "id": "491f6e02-53f1-4fa7-a0cd-0b503a549a8b",
   "metadata": {
    "tags": []
   },
   "source": [
    "### Language\n",
    "\n",
    "Trying to exclude sentences that cannot be `gl`. It is supposed that if a sentence can be `gl` then the _gl_ language will be in the top-5 rank of `langid`"
   ]
  },
  {
   "cell_type": "code",
   "execution_count": 7,
   "id": "d7f70225-88ad-428c-9c70-426b2f148515",
   "metadata": {},
   "outputs": [],
   "source": [
    "def thread(sents,limit=5):\n",
    "    return [langid.rank(s)[:limit] for s in sents]"
   ]
  },
  {
   "cell_type": "code",
   "execution_count": 8,
   "id": "d19420ee-7f0f-4cc6-bd2d-ff43ab857f8c",
   "metadata": {},
   "outputs": [
    {
     "name": "stdout",
     "output_type": "stream",
     "text": [
      "CPU times: user 11.9 s, sys: 1.95 s, total: 13.8 s\n",
      "Wall time: 22min 30s\n"
     ]
    }
   ],
   "source": [
    "%%time\n",
    "\n",
    "lang=[]\n",
    "for chunk in vectorice(sentences,thread_function=thread,max_workers=100):\n",
    "    lang+=chunk"
   ]
  },
  {
   "cell_type": "code",
   "execution_count": 9,
   "id": "d9ac2f64-6348-4141-be20-3b4f18c970bc",
   "metadata": {},
   "outputs": [],
   "source": [
    "lang=[transpose(item)[0] for item in lang]"
   ]
  },
  {
   "cell_type": "code",
   "execution_count": 10,
   "id": "e70db4e6-0737-42ea-a8a2-a8f03784e7b3",
   "metadata": {},
   "outputs": [
    {
     "data": {
      "text/plain": [
       "[(('gl', 'es', 'an', 'pt', 'ca'), 330756),\n",
       " (('gl', 'es', 'an', 'ca', 'pt'), 144336),\n",
       " (('gl', 'pt', 'es', 'an', 'br'), 136552),\n",
       " (('gl', 'es', 'pt', 'an', 'ca'), 100171),\n",
       " (('gl', 'es', 'pt', 'an', 'eo'), 90135),\n",
       " (('gl', 'pt', 'es', 'an', 'eo'), 86732),\n",
       " (('gl', 'es', 'an', 'pt', 'eo'), 85681),\n",
       " (('gl', 'es', 'pt', 'an', 'br'), 84215),\n",
       " (('gl', 'es', 'an', 'pt', 'oc'), 74966),\n",
       " (('gl', 'es', 'an', 'pt', 'br'), 71596)]"
      ]
     },
     "execution_count": 10,
     "metadata": {},
     "output_type": "execute_result"
    }
   ],
   "source": [
    "Counter(lang).most_common(10)"
   ]
  },
  {
   "cell_type": "code",
   "execution_count": 11,
   "id": "3c60d55e-1bf6-46d9-b181-b0e04d5095df",
   "metadata": {},
   "outputs": [
    {
     "data": {
      "text/plain": [
       "2613369"
      ]
     },
     "execution_count": 11,
     "metadata": {},
     "output_type": "execute_result"
    }
   ],
   "source": [
    "sents=list(set([s for s,l in zip(sentences,lang) if 'gl' in l]))\n",
    "len(sents)"
   ]
  },
  {
   "cell_type": "markdown",
   "id": "fc75f7ba-427b-4902-92a6-070cbd20d3ab",
   "metadata": {
    "tags": []
   },
   "source": [
    "## Computing model"
   ]
  },
  {
   "cell_type": "code",
   "execution_count": 12,
   "id": "3c6ad966-16cc-4324-bb97-5b11fe33bce7",
   "metadata": {},
   "outputs": [],
   "source": [
    "def thread(sents):\n",
    "    return get_spacy_predict(sents,nlp)\n"
   ]
  },
  {
   "cell_type": "code",
   "execution_count": 13,
   "id": "05050216-fc43-43f8-85cd-155c0352da15",
   "metadata": {},
   "outputs": [
    {
     "name": "stderr",
     "output_type": "stream",
     "text": [
      "/home/luis/.local/lib/python3.10/site-packages/spacy/pipeline/attributeruler.py:150: UserWarning: [W036] The component 'matcher' does not have any patterns defined.\n",
      "  matches = self.matcher(doc, allow_missing=True, as_spans=False)\n",
      "/home/luis/.local/lib/python3.10/site-packages/spacy/pipeline/attributeruler.py:150: UserWarning: [W036] The component 'matcher' does not have any patterns defined.\n",
      "  matches = self.matcher(doc, allow_missing=True, as_spans=False)\n",
      "/home/luis/.local/lib/python3.10/site-packages/spacy/pipeline/attributeruler.py:150: UserWarning: [W036] The component 'matcher' does not have any patterns defined.\n",
      "  matches = self.matcher(doc, allow_missing=True, as_spans=False)\n",
      "/home/luis/.local/lib/python3.10/site-packages/spacy/pipeline/attributeruler.py:150: UserWarning: [W036] The component 'matcher' does not have any patterns defined.\n",
      "  matches = self.matcher(doc, allow_missing=True, as_spans=False)\n",
      "/home/luis/.local/lib/python3.10/site-packages/spacy/pipeline/attributeruler.py:150: UserWarning: [W036] The component 'matcher' does not have any patterns defined.\n",
      "  matches = self.matcher(doc, allow_missing=True, as_spans=False)\n",
      "/home/luis/.local/lib/python3.10/site-packages/spacy/pipeline/attributeruler.py:150: UserWarning: [W036] The component 'matcher' does not have any patterns defined.\n",
      "  matches = self.matcher(doc, allow_missing=True, as_spans=False)\n",
      "/home/luis/.local/lib/python3.10/site-packages/spacy/pipeline/attributeruler.py:150: UserWarning: [W036] The component 'matcher' does not have any patterns defined.\n",
      "  matches = self.matcher(doc, allow_missing=True, as_spans=False)\n",
      "/home/luis/.local/lib/python3.10/site-packages/spacy/pipeline/attributeruler.py:150: UserWarning: [W036] The component 'matcher' does not have any patterns defined.\n",
      "  matches = self.matcher(doc, allow_missing=True, as_spans=False)\n",
      "/home/luis/.local/lib/python3.10/site-packages/spacy/pipeline/attributeruler.py:150: UserWarning: [W036] The component 'matcher' does not have any patterns defined.\n",
      "  matches = self.matcher(doc, allow_missing=True, as_spans=False)\n",
      "/home/luis/.local/lib/python3.10/site-packages/spacy/pipeline/attributeruler.py:150: UserWarning: [W036] The component 'matcher' does not have any patterns defined.\n",
      "  matches = self.matcher(doc, allow_missing=True, as_spans=False)\n",
      "/home/luis/.local/lib/python3.10/site-packages/spacy/pipeline/attributeruler.py:150: UserWarning: [W036] The component 'matcher' does not have any patterns defined.\n",
      "  matches = self.matcher(doc, allow_missing=True, as_spans=False)\n",
      "/home/luis/.local/lib/python3.10/site-packages/spacy/pipeline/attributeruler.py:150: UserWarning: [W036] The component 'matcher' does not have any patterns defined.\n",
      "  matches = self.matcher(doc, allow_missing=True, as_spans=False)\n",
      "/home/luis/.local/lib/python3.10/site-packages/spacy/pipeline/attributeruler.py:150: UserWarning: [W036] The component 'matcher' does not have any patterns defined.\n",
      "  matches = self.matcher(doc, allow_missing=True, as_spans=False)\n",
      "/home/luis/.local/lib/python3.10/site-packages/spacy/pipeline/attributeruler.py:150: UserWarning: [W036] The component 'matcher' does not have any patterns defined.\n",
      "  matches = self.matcher(doc, allow_missing=True, as_spans=False)\n",
      "/home/luis/.local/lib/python3.10/site-packages/spacy/pipeline/attributeruler.py:150: UserWarning: [W036] The component 'matcher' does not have any patterns defined.\n",
      "  matches = self.matcher(doc, allow_missing=True, as_spans=False)\n",
      "/home/luis/.local/lib/python3.10/site-packages/spacy/pipeline/attributeruler.py:150: UserWarning: [W036] The component 'matcher' does not have any patterns defined.\n",
      "  matches = self.matcher(doc, allow_missing=True, as_spans=False)\n"
     ]
    },
    {
     "name": "stdout",
     "output_type": "stream",
     "text": [
      "CPU times: user 59.7 s, sys: 9.44 s, total: 1min 9s\n",
      "Wall time: 45min 3s\n"
     ]
    }
   ],
   "source": [
    "%%time\n",
    "answer=vectorice(sents,thread_function=thread,max_workers=100)"
   ]
  },
  {
   "cell_type": "code",
   "execution_count": 14,
   "id": "0677df4c-2135-468a-8cc5-b0ea7f353c0c",
   "metadata": {},
   "outputs": [
    {
     "name": "stdout",
     "output_type": "stream",
     "text": [
      "CPU times: user 115 ms, sys: 4.62 ms, total: 120 ms\n",
      "Wall time: 119 ms\n"
     ]
    }
   ],
   "source": [
    "%%time\n",
    "all_toks=[]\n",
    "\n",
    "for l in answer:\n",
    "    toks,bow,df,lemma,propn=l\n",
    "    all_toks+=toks\n"
   ]
  },
  {
   "cell_type": "code",
   "execution_count": 15,
   "id": "561a6124-0e76-49b5-b84e-05c08c1034fe",
   "metadata": {},
   "outputs": [
    {
     "data": {
      "text/plain": [
       "(2613369, 2613369)"
      ]
     },
     "execution_count": 15,
     "metadata": {},
     "output_type": "execute_result"
    }
   ],
   "source": [
    "len(sents),len(all_toks)"
   ]
  },
  {
   "cell_type": "markdown",
   "id": "94eb9bdc-9fd3-46a6-b206-ccce85e64962",
   "metadata": {},
   "source": [
    "Filter sentences with at least one `VERB` or `AUX`"
   ]
  },
  {
   "cell_type": "code",
   "execution_count": 16,
   "id": "e83361b0-f166-457d-b79d-5c08dff59f3b",
   "metadata": {},
   "outputs": [
    {
     "data": {
      "text/plain": [
       "332104"
      ]
     },
     "execution_count": 16,
     "metadata": {},
     "output_type": "execute_result"
    }
   ],
   "source": [
    "to_drop=[i for i,val in enumerate(all_toks) if not ('VERB' in (test:=transpose(val)[1]) or 'AUX' in test)]\n",
    "len(to_drop)\n",
    "         "
   ]
  },
  {
   "cell_type": "code",
   "execution_count": 17,
   "id": "d21f685b-a9b5-403d-a01e-22e7f5918255",
   "metadata": {},
   "outputs": [],
   "source": [
    "for indx in reversed(to_drop):\n",
    "    all_toks.pop(indx)\n",
    "    sents.pop(indx)"
   ]
  },
  {
   "cell_type": "code",
   "execution_count": 18,
   "id": "e9bd0145-7b86-4a60-8b8b-ad1fdd35e292",
   "metadata": {},
   "outputs": [
    {
     "data": {
      "text/plain": [
       "(2281265, 2281265)"
      ]
     },
     "execution_count": 18,
     "metadata": {},
     "output_type": "execute_result"
    }
   ],
   "source": [
    "len(sents),len(all_toks)"
   ]
  },
  {
   "cell_type": "code",
   "execution_count": 19,
   "id": "baf3d27e-6165-4554-bf1a-0a13016e783f",
   "metadata": {},
   "outputs": [
    {
     "name": "stdout",
     "output_type": "stream",
     "text": [
      "CPU times: user 5.65 s, sys: 12.7 ms, total: 5.66 s\n",
      "Wall time: 5.66 s\n"
     ]
    }
   ],
   "source": [
    "%%time\n",
    "\n",
    "all_bow={}\n",
    "all_df={}\n",
    "all_lemma={}\n",
    "all_propn={}\n",
    "for l in answer:\n",
    "    toks,bow,df,lemma,propn=l\n",
    "   \n",
    "    all_bow=update_dict(all_bow,bow)\n",
    "    all_df=update_dict(all_df,df)\n",
    "    all_lemma=update_dict(all_lemma,lemma)\n",
    "    all_propn=update_dict(all_propn,propn)"
   ]
  },
  {
   "cell_type": "code",
   "execution_count": 29,
   "id": "f0d06732-c4c6-4a7c-9da0-ff636058c754",
   "metadata": {},
   "outputs": [],
   "source": [
    "#Save vars\n",
    "pickle_var(path_data/'wiki_gal_tokens.pkl',all_toks)\n",
    "pickle_var(path_data/'wiki_gal_sents.pkl',sents)"
   ]
  },
  {
   "cell_type": "code",
   "execution_count": 34,
   "id": "52268ba1-9a59-4294-ad3d-0bf10d1d6030",
   "metadata": {},
   "outputs": [
    {
     "data": {
      "text/plain": [
       "314669581"
      ]
     },
     "execution_count": 34,
     "metadata": {},
     "output_type": "execute_result"
    }
   ],
   "source": [
    "(path_data/'wiki_sents_gal.txt').write_text('\\n'.join(sents),encoding='utf8')"
   ]
  },
  {
   "cell_type": "code",
   "execution_count": 21,
   "id": "07329c3e-c08f-43d4-889b-ab4517ddf2ec",
   "metadata": {},
   "outputs": [
    {
     "name": "stdout",
     "output_type": "stream",
     "text": [
      "Num unic tokens : 403153,\n",
      "Num unic lemmas: 334994\n",
      "Num unic PROPN: 521912\n",
      "Num sentences: 2281265\n"
     ]
    }
   ],
   "source": [
    "print(f'Num unic tokens : {len(all_bow)},\\nNum unic lemmas: {len(all_df)}\\nNum unic PROPN: {len(all_propn)}\\nNum sentences: {len(all_toks)}')"
   ]
  },
  {
   "cell_type": "code",
   "execution_count": 22,
   "id": "755e76cc-2f67-42ba-9752-93e60de5129c",
   "metadata": {},
   "outputs": [
    {
     "data": {
      "text/plain": [
       "[('o', 1835198),\n",
       " ('de', 1661532),\n",
       " ('e', 1150597),\n",
       " ('ser', 907344),\n",
       " ('do', 854009),\n",
       " ('no', 782473),\n",
       " ('en', 774795),\n",
       " ('que', 740078),\n",
       " ('un', 715235),\n",
       " ('da', 620231),\n",
       " ('seu', 465242),\n",
       " ('como', 335481),\n",
       " ('a', 309189),\n",
       " ('por', 293497),\n",
       " ('para', 278623),\n",
       " ('ao', 271791),\n",
       " ('con', 227261),\n",
       " ('se', 223035),\n",
       " ('máis', 184982),\n",
       " ('á', 184308),\n",
       " ('polo', 165752),\n",
       " ('ou', 164424),\n",
       " ('non', 159420),\n",
       " ('ter', 156368),\n",
       " ('ano', 150407),\n",
       " ('estar', 145754),\n",
       " ('dos', 144794),\n",
       " ('este', 137845),\n",
       " ('co', 132778),\n",
       " ('tamén', 126096),\n",
       " ('primeiro', 125673),\n",
       " ('entre', 119530),\n",
       " ('poder', 117811),\n",
       " ('dun', 116063),\n",
       " ('outro', 96706),\n",
       " ('todo', 88708),\n",
       " ('dous', 87582),\n",
       " ('nun', 87062),\n",
       " ('parte', 79853),\n",
       " ('segundo', 78316),\n",
       " ('lugar', 77528),\n",
       " ('coa', 75832),\n",
       " ('durante', 74901),\n",
       " ('pola', 73567),\n",
       " ('sobre', 71483),\n",
       " ('pero', 69178),\n",
       " ('mesmo', 67501),\n",
       " ('concello', 64646),\n",
       " ('cidade', 63407),\n",
       " ('despois', 62740)]"
      ]
     },
     "execution_count": 22,
     "metadata": {},
     "output_type": "execute_result"
    }
   ],
   "source": [
    "Counter(all_df).most_common(50)"
   ]
  },
  {
   "cell_type": "markdown",
   "id": "c2c808d2-5e73-49f5-8ea9-4bf2d5e426b8",
   "metadata": {},
   "source": [
    "#### Filter bow, df and lemma. Compute tfidf"
   ]
  },
  {
   "cell_type": "code",
   "execution_count": 23,
   "id": "535e5cb8-ceb8-4965-989e-8a272e5fa309",
   "metadata": {},
   "outputs": [
    {
     "name": "stdout",
     "output_type": "stream",
     "text": [
      "#BOW: 138432\n",
      " #Lemma: 102239,\n",
      " #DF: 102239\n"
     ]
    }
   ],
   "source": [
    "all_bow={key:val for key,val in all_bow.items() if val >3}\n",
    "all_lemma={key:val for key,val in all_lemma.items() if val >3}\n",
    "\n",
    "all_df={key:val for key,val in all_df.items() if val >3}\n",
    "inter_key=set(all_lemma.keys()).intersection(all_df.keys())\n",
    "\n",
    "all_lemma={key:all_lemma[key] for key in inter_key}\n",
    "all_df={key:all_df[key] for key in inter_key}\n",
    "\n",
    "print(f'#BOW: {len(all_bow)}\\n #Lemma: {len(all_lemma)},\\n #DF: {len(all_df)}')\n",
    "\n",
    "total_toks=sum(list(all_lemma.values()))\n",
    "total_sents=len(all_toks)\n",
    "all_idf={key:np.log(total_sents/val) for key,val in all_df.items()}\n",
    "tfidf={key:val*all_lemma[key]/total_toks for key,val in all_idf.items()}"
   ]
  },
  {
   "cell_type": "code",
   "execution_count": 24,
   "id": "6d7ec9a4-e2f4-48e6-906c-ebe0accd3fe1",
   "metadata": {},
   "outputs": [
    {
     "data": {
      "text/plain": [
       "[('de', 3177387),\n",
       " ('e', 1586355),\n",
       " ('a', 1509639),\n",
       " ('o', 1184919),\n",
       " ('que', 1013607),\n",
       " ('en', 876364),\n",
       " ('do', 849747),\n",
       " ('da', 789768),\n",
       " ('un', 442180),\n",
       " ('no', 406984),\n",
       " ('na', 373931),\n",
       " ('unha', 370061),\n",
       " ('os', 367573),\n",
       " ('como', 351557),\n",
       " ('é', 346583),\n",
       " ('O', 308788),\n",
       " ('por', 308502),\n",
       " ('A', 304339),\n",
       " ('para', 299652),\n",
       " ('dos', 280278)]"
      ]
     },
     "execution_count": 24,
     "metadata": {},
     "output_type": "execute_result"
    }
   ],
   "source": [
    "Counter(all_bow).most_common(20)"
   ]
  },
  {
   "cell_type": "code",
   "execution_count": 25,
   "id": "157afd8c-f0c1-47c4-bb4c-aaf8d1d829b5",
   "metadata": {},
   "outputs": [
    {
     "data": {
      "text/plain": [
       "[('o', 3745101),\n",
       " ('de', 3192084),\n",
       " ('e', 1590137),\n",
       " ('do', 1169643),\n",
       " ('ser', 1054910),\n",
       " ('que', 1013613),\n",
       " ('no', 1004151),\n",
       " ('en', 1003520),\n",
       " ('un', 876077),\n",
       " ('da', 774344),\n",
       " ('seu', 564591),\n",
       " ('como', 370349),\n",
       " ('a', 346536),\n",
       " ('por', 328781),\n",
       " ('ao', 316089),\n",
       " ('para', 314509),\n",
       " ('se', 252431),\n",
       " ('con', 250781),\n",
       " ('máis', 203584),\n",
       " ('á', 201191)]"
      ]
     },
     "execution_count": 25,
     "metadata": {},
     "output_type": "execute_result"
    }
   ],
   "source": [
    "Counter(all_lemma).most_common(20)"
   ]
  },
  {
   "cell_type": "code",
   "execution_count": 26,
   "id": "4e6501fc-48bf-4052-86b2-94cfebb3978a",
   "metadata": {},
   "outputs": [
    {
     "data": {
      "text/plain": [
       "[('caroliniana', 13.253946310513896),\n",
       " ('colofonia', 13.253946310513896),\n",
       " ('fir', 13.253946310513896),\n",
       " ('drogaría', 13.253946310513896),\n",
       " ('incluínte', 13.253946310513896),\n",
       " ('influíren', 13.253946310513896),\n",
       " ('Cápsula', 13.253946310513896),\n",
       " ('burlor', 13.253946310513896),\n",
       " ('pincha', 13.253946310513896),\n",
       " ('practicabl', 13.253946310513896),\n",
       " ('contei', 13.253946310513896),\n",
       " ('carajo', 13.253946310513896),\n",
       " ('brazada', 13.253946310513896),\n",
       " ('apaixonada', 13.253946310513896),\n",
       " ('existencialisto', 13.253946310513896),\n",
       " ('inmunomodulatorio', 13.253946310513896),\n",
       " ('Contentos', 13.253946310513896),\n",
       " ('sosa', 13.253946310513896),\n",
       " ('utilizábao', 13.253946310513896),\n",
       " ('adelantar', 13.253946310513896)]"
      ]
     },
     "execution_count": 26,
     "metadata": {},
     "output_type": "execute_result"
    }
   ],
   "source": [
    "Counter(all_idf).most_common(20)"
   ]
  },
  {
   "cell_type": "code",
   "execution_count": 27,
   "id": "6c8dd21c-831e-444d-b784-e24c277d5ee6",
   "metadata": {},
   "outputs": [
    {
     "data": {
      "text/plain": [
       "[('do', 0.025297675104996316),\n",
       " ('que', 0.02511780960374905),\n",
       " ('e', 0.023958033875053),\n",
       " ('en', 0.023855017408974794),\n",
       " ('no', 0.023652049138084077),\n",
       " ('un', 0.022368074784096345),\n",
       " ('de', 0.0222738536694409),\n",
       " ('da', 0.022199927303366587),\n",
       " ('ser', 0.021409408960429904),\n",
       " ('seu', 0.01975999140933233),\n",
       " ('o', 0.017937148966350448),\n",
       " ('como', 0.015627539582477652),\n",
       " ('a', 0.015245266942272278),\n",
       " ('por', 0.01484112759296261),\n",
       " ('ao', 0.014802824166388168),\n",
       " ('para', 0.014556953320788038),\n",
       " ('se', 0.012920232776729795),\n",
       " ('con', 0.012732160307103776),\n",
       " ('máis', 0.011258432446470889),\n",
       " ('ou', 0.01114335882840037)]"
      ]
     },
     "execution_count": 27,
     "metadata": {},
     "output_type": "execute_result"
    }
   ],
   "source": [
    "Counter(tfidf).most_common(20)"
   ]
  },
  {
   "cell_type": "code",
   "execution_count": null,
   "id": "7b90cddc-0171-47c5-b136-892195017ad5",
   "metadata": {},
   "outputs": [],
   "source": []
  },
  {
   "cell_type": "markdown",
   "id": "c3e7f383-78c2-4122-942c-c4c279fe4265",
   "metadata": {
    "tags": []
   },
   "source": [
    "## Corpuscle object"
   ]
  },
  {
   "cell_type": "code",
   "execution_count": 28,
   "id": "add3e2b8-070e-4436-89a3-eaf322c1137b",
   "metadata": {},
   "outputs": [],
   "source": [
    "corpus=corpuscle(nlp,all_bow,all_lemma,tfidf,all_propn)\n",
    "\n",
    "pickle_var(path_model/'wiki_gal_corpuscle.pkl',corpus)"
   ]
  }
 ],
 "metadata": {
  "kernelspec": {
   "display_name": "Python 3 (ipykernel)",
   "language": "python",
   "name": "python3"
  },
  "language_info": {
   "codemirror_mode": {
    "name": "ipython",
    "version": 3
   },
   "file_extension": ".py",
   "mimetype": "text/x-python",
   "name": "python",
   "nbconvert_exporter": "python",
   "pygments_lexer": "ipython3",
   "version": "3.10.6"
  }
 },
 "nbformat": 4,
 "nbformat_minor": 5
}
